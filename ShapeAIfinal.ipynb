{
 "cells": [
  {
   "cell_type": "code",
   "execution_count": 9,
   "id": "baaa90e9",
   "metadata": {},
   "outputs": [],
   "source": [
    "import tensorflow as tf\n",
    "from tensorflow import keras\n",
    "import numpy as np"
   ]
  },
  {
   "cell_type": "code",
   "execution_count": 13,
   "id": "515c5a53",
   "metadata": {
    "scrolled": true
   },
   "outputs": [
    {
     "name": "stdout",
     "output_type": "stream",
     "text": [
      "Collecting keras-tuner\n",
      "  Downloading keras-tuner-1.0.2.tar.gz (62 kB)\n",
      "Requirement already satisfied: packaging in c:\\users\\maste\\anaconda3\\lib\\site-packages (from keras-tuner) (20.9)\n",
      "Requirement already satisfied: future in c:\\users\\maste\\anaconda3\\lib\\site-packages (from keras-tuner) (0.18.2)\n",
      "Requirement already satisfied: numpy in c:\\users\\maste\\anaconda3\\lib\\site-packages (from keras-tuner) (1.19.5)\n",
      "Collecting tabulate\n",
      "  Downloading tabulate-0.8.9-py3-none-any.whl (25 kB)\n",
      "Collecting terminaltables\n",
      "  Downloading terminaltables-3.1.0.tar.gz (12 kB)\n",
      "Requirement already satisfied: colorama in c:\\users\\maste\\anaconda3\\lib\\site-packages (from keras-tuner) (0.4.4)\n",
      "Requirement already satisfied: tqdm in c:\\users\\maste\\anaconda3\\lib\\site-packages (from keras-tuner) (4.59.0)\n",
      "Requirement already satisfied: requests in c:\\users\\maste\\anaconda3\\lib\\site-packages (from keras-tuner) (2.25.1)\n",
      "Requirement already satisfied: scipy in c:\\users\\maste\\anaconda3\\lib\\site-packages (from keras-tuner) (1.6.2)\n",
      "Requirement already satisfied: scikit-learn in c:\\users\\maste\\anaconda3\\lib\\site-packages (from keras-tuner) (0.24.1)\n",
      "Requirement already satisfied: pyparsing>=2.0.2 in c:\\users\\maste\\anaconda3\\lib\\site-packages (from packaging->keras-tuner) (2.4.7)\n",
      "Requirement already satisfied: urllib3<1.27,>=1.21.1 in c:\\users\\maste\\anaconda3\\lib\\site-packages (from requests->keras-tuner) (1.26.4)\n",
      "Requirement already satisfied: certifi>=2017.4.17 in c:\\users\\maste\\anaconda3\\lib\\site-packages (from requests->keras-tuner) (2020.12.5)\n",
      "Requirement already satisfied: idna<3,>=2.5 in c:\\users\\maste\\anaconda3\\lib\\site-packages (from requests->keras-tuner) (2.10)\n",
      "Requirement already satisfied: chardet<5,>=3.0.2 in c:\\users\\maste\\anaconda3\\lib\\site-packages (from requests->keras-tuner) (4.0.0)\n",
      "Requirement already satisfied: joblib>=0.11 in c:\\users\\maste\\anaconda3\\lib\\site-packages (from scikit-learn->keras-tuner) (1.0.1)\n",
      "Requirement already satisfied: threadpoolctl>=2.0.0 in c:\\users\\maste\\anaconda3\\lib\\site-packages (from scikit-learn->keras-tuner) (2.1.0)\n",
      "Building wheels for collected packages: keras-tuner, terminaltables\n",
      "  Building wheel for keras-tuner (setup.py): started\n",
      "  Building wheel for keras-tuner (setup.py): finished with status 'done'\n",
      "  Created wheel for keras-tuner: filename=keras_tuner-1.0.2-py3-none-any.whl size=78936 sha256=aa3e703b84f60fdf6d0d687c9ad1338b1834c8ff9a0f3bb653256b0a90ef1192\n",
      "  Stored in directory: c:\\users\\maste\\appdata\\local\\pip\\cache\\wheels\\53\\3d\\c3\\160c686bd74a18989843fcd015e8f6954ca8d834fd2ef4658a\n",
      "  Building wheel for terminaltables (setup.py): started\n",
      "  Building wheel for terminaltables (setup.py): finished with status 'done'\n",
      "  Created wheel for terminaltables: filename=terminaltables-3.1.0-py3-none-any.whl size=15355 sha256=19fb07f4f9f09a629ffbeb27eb8d6c0bef329b51017a56b8f95070a83580f209\n",
      "  Stored in directory: c:\\users\\maste\\appdata\\local\\pip\\cache\\wheels\\08\\8f\\5f\\253d0105a55bd84ee61ef0d37dbf70421e61e0cd70cef7c5e1\n",
      "Successfully built keras-tuner terminaltables\n",
      "Installing collected packages: terminaltables, tabulate, keras-tuner\n",
      "Successfully installed keras-tuner-1.0.2 tabulate-0.8.9 terminaltables-3.1.0\n"
     ]
    }
   ],
   "source": [
    "!pip install keras-tuner"
   ]
  },
  {
   "cell_type": "code",
   "execution_count": 16,
   "id": "36472ef4",
   "metadata": {},
   "outputs": [],
   "source": [
    "fashion_mnist = keras.datasets.fashion_mnist"
   ]
  },
  {
   "cell_type": "code",
   "execution_count": 19,
   "id": "f079887c",
   "metadata": {},
   "outputs": [
    {
     "name": "stdout",
     "output_type": "stream",
     "text": [
      "Downloading data from https://storage.googleapis.com/tensorflow/tf-keras-datasets/train-labels-idx1-ubyte.gz\n",
      "32768/29515 [=================================] - 0s 3us/step\n",
      "Downloading data from https://storage.googleapis.com/tensorflow/tf-keras-datasets/train-images-idx3-ubyte.gz\n",
      "26427392/26421880 [==============================] - 4s 0us/step\n",
      "Downloading data from https://storage.googleapis.com/tensorflow/tf-keras-datasets/t10k-labels-idx1-ubyte.gz\n",
      "8192/5148 [===============================================] - 0s 0us/step\n",
      "Downloading data from https://storage.googleapis.com/tensorflow/tf-keras-datasets/t10k-images-idx3-ubyte.gz\n",
      "4423680/4422102 [==============================] - 0s 0us/step\n"
     ]
    }
   ],
   "source": [
    "(train_images,train_labels),(test_images,test_labels)=fashion_mnist.load_data()"
   ]
  },
  {
   "cell_type": "code",
   "execution_count": null,
   "id": "90eb8c61",
   "metadata": {},
   "outputs": [],
   "source": []
  },
  {
   "cell_type": "code",
   "execution_count": 20,
   "id": "6fae6d5e",
   "metadata": {},
   "outputs": [],
   "source": [
    "train_images = train_images/255.0"
   ]
  },
  {
   "cell_type": "code",
   "execution_count": 21,
   "id": "fba73436",
   "metadata": {},
   "outputs": [],
   "source": [
    "test_images = test_images/255.0"
   ]
  },
  {
   "cell_type": "code",
   "execution_count": 22,
   "id": "0c8c7581",
   "metadata": {},
   "outputs": [
    {
     "data": {
      "text/plain": [
       "(28, 28)"
      ]
     },
     "execution_count": 22,
     "metadata": {},
     "output_type": "execute_result"
    }
   ],
   "source": [
    "train_images[0].shape"
   ]
  },
  {
   "cell_type": "code",
   "execution_count": 23,
   "id": "da5acf95",
   "metadata": {},
   "outputs": [],
   "source": [
    "train_images = train_images.reshape(len(train_images),28,28,1)\n",
    "test_images = test_images.reshape(len(test_images),28,28,1)"
   ]
  },
  {
   "cell_type": "code",
   "execution_count": null,
   "id": "b8166eae",
   "metadata": {},
   "outputs": [],
   "source": [
    "filters=hp.Int('conv_1_filter', min_value=32, max_value-128, step-16), kernel_size=hp.Choice('conv_1_kernel', values = [3,5]),\n",
    "\n",
    "activation='relu',\n",
    "\n",
    "input_shape=(28,28,1)\n",
    "\n",
    "),\n",
    "\n",
    "keras.layers.Conv2D(\n",
    "\n",
    "filters=hp.Int('conv_2_filter', min_value=32, max_value-64, step-16), kernel_size=hp.Choice('conv_2_kernel', values = [3,5]), activation='relu'\n",
    "\n",
    "keras.layers.Flatten(),\n",
    "\n",
    "keras.layers.Dense(\n",
    "\n",
    "units-hp.Int('dense_1_units', min_value=32, max_value=128, step-16),\n",
    "\n",
    "activation='relu'\n",
    "    \n",
    "    \n",
    "[11:41 PM, 5/27/2021] Shabeeh Nazer Mohiuddin: How many OPS subject are you taking\n",
    "[11:41 PM, 5/27/2021] Shabeeh Nazer Mohiuddin: keras.layers.Dense(10, activation='softmax') #output layer\n",
    "\n",
    "model.compile(optimizer-keras.optimizers.Adam(hp.Choice('learning rate', values-[1e-2, 1e-3])),\n",
    "\n",
    "loss='sparse_categorical_crossentropy', metrics=['accuracy'])\n",
    "\n",
    "return model"
   ]
  },
  {
   "cell_type": "code",
   "execution_count": 50,
   "id": "d2091086",
   "metadata": {},
   "outputs": [],
   "source": [
    "def build_model(hp):\n",
    "    model = keras.Sequential([\n",
    "        keras.layers.Conv2D(\n",
    "            filters=hp.Int('conv_1_filter', min_value=32, max_value=128, step=16), \n",
    "            kernel_size=hp.Choice('conv_1_kernel', values = [3,5]),\n",
    "            activation='relu',\n",
    "            input_shape=(28,28,1)\n",
    "        ),\n",
    "        keras.layers.Conv2D(\n",
    "            filters=hp.Int('conv_2_filter', min_value=32, max_value=64, step=16), \n",
    "            kernel_size=hp.Choice('conv_2_kernel', values = [3,5]), \n",
    "            activation='relu'\n",
    "        ),\n",
    "        keras.layers.Flatten(),\n",
    "        keras.layers.Dense(\n",
    "            units=hp.Int('dense_1_units', min_value=32, max_value=128, step=16),\n",
    "            activation='relu'\n",
    "        ),\n",
    "        keras.layers.Dense(10, activation='softmax') #output layer\n",
    "    ])\n",
    "\n",
    "    model.compile(optimizer=keras.optimizers.Adam(hp.Choice('learning_rate', values=[1e-2, 1e-3])),\n",
    "                loss = 'sparse_categorical_crossentropy', \n",
    "                metrics = ['accuracy'])\n",
    "                    \n",
    "    return model    \n"
   ]
  },
  {
   "cell_type": "code",
   "execution_count": 51,
   "id": "3a1b715d",
   "metadata": {},
   "outputs": [],
   "source": [
    "from kerastuner import RandomSearch\n",
    "from kerastuner.engine.hyperparameters import HyperParameters"
   ]
  },
  {
   "cell_type": "code",
   "execution_count": 54,
   "id": "6b6448c4",
   "metadata": {},
   "outputs": [],
   "source": [
    "tuner_search=RandomSearch(build_model,\n",
    "                         objective='val_accuracy',\n",
    "                        max_trials=5, directory='output',project_name=\"Mnist Fashion\")"
   ]
  },
  {
   "cell_type": "code",
   "execution_count": 57,
   "id": "cdc11784",
   "metadata": {},
   "outputs": [
    {
     "name": "stdout",
     "output_type": "stream",
     "text": [
      "Trial 5 Complete [00h 16m 08s]\n",
      "val_accuracy: 0.9066666960716248\n",
      "\n",
      "Best val_accuracy So Far: 0.9143333435058594\n",
      "Total elapsed time: 00h 45m 36s\n",
      "INFO:tensorflow:Oracle triggered exit\n"
     ]
    }
   ],
   "source": [
    "tuner_search.search(train_images, train_labels, epochs=3, validation_split=0.1)"
   ]
  },
  {
   "cell_type": "code",
   "execution_count": 59,
   "id": "caeb8f79",
   "metadata": {
    "scrolled": false
   },
   "outputs": [],
   "source": [
    "model=tuner_search.get_best_models(num_models=1)[0]"
   ]
  },
  {
   "cell_type": "code",
   "execution_count": 60,
   "id": "9d40db72",
   "metadata": {},
   "outputs": [
    {
     "name": "stdout",
     "output_type": "stream",
     "text": [
      "Model: \"sequential\"\n",
      "_________________________________________________________________\n",
      "Layer (type)                 Output Shape              Param #   \n",
      "=================================================================\n",
      "conv2d (Conv2D)              (None, 26, 26, 32)        320       \n",
      "_________________________________________________________________\n",
      "conv2d_1 (Conv2D)            (None, 24, 24, 48)        13872     \n",
      "_________________________________________________________________\n",
      "flatten (Flatten)            (None, 27648)             0         \n",
      "_________________________________________________________________\n",
      "dense (Dense)                (None, 96)                2654304   \n",
      "_________________________________________________________________\n",
      "dense_1 (Dense)              (None, 10)                970       \n",
      "=================================================================\n",
      "Total params: 2,669,466\n",
      "Trainable params: 2,669,466\n",
      "Non-trainable params: 0\n",
      "_________________________________________________________________\n"
     ]
    }
   ],
   "source": [
    "model.summary()"
   ]
  },
  {
   "cell_type": "code",
   "execution_count": null,
   "id": "0ed79f65",
   "metadata": {},
   "outputs": [],
   "source": []
  }
 ],
 "metadata": {
  "kernelspec": {
   "display_name": "Python 3",
   "language": "python",
   "name": "python3"
  },
  "language_info": {
   "codemirror_mode": {
    "name": "ipython",
    "version": 3
   },
   "file_extension": ".py",
   "mimetype": "text/x-python",
   "name": "python",
   "nbconvert_exporter": "python",
   "pygments_lexer": "ipython3",
   "version": "3.8.8"
  }
 },
 "nbformat": 4,
 "nbformat_minor": 5
}
